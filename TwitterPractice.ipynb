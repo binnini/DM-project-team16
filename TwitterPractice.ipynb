{
  "cells": [
    {
      "cell_type": "markdown",
      "metadata": {
        "id": "view-in-github",
        "colab_type": "text"
      },
      "source": [
        "<a href=\"https://colab.research.google.com/github/binnini/DM-project-team16/blob/main/TwitterPractice.ipynb\" target=\"_parent\"><img src=\"https://colab.research.google.com/assets/colab-badge.svg\" alt=\"Open In Colab\"/></a>"
      ]
    },
    {
      "cell_type": "code",
      "execution_count": 1,
      "metadata": {
        "colab": {
          "base_uri": "https://localhost:8080/"
        },
        "id": "ay6Ao3xBAsqe",
        "outputId": "a724c0ee-c0ed-4726-9d1d-45cc6f14fd72"
      },
      "outputs": [
        {
          "output_type": "stream",
          "name": "stdout",
          "text": [
            "Requirement already satisfied: pyspark in /usr/local/lib/python3.10/dist-packages (3.5.3)\n",
            "Requirement already satisfied: py4j==0.10.9.7 in /usr/local/lib/python3.10/dist-packages (from pyspark) (0.10.9.7)\n"
          ]
        }
      ],
      "source": [
        "# local에 padnas, numpy, matplotlib 설치필요\n",
        "import pandas as pd\n",
        "import numpy as np\n",
        "import matplotlib.pyplot as plt\n",
        "%matplotlib inline\n",
        "\n",
        "from pyspark.sql.types import StructField, StructType, StringType, DoubleType, FloatType, IntegerType\n",
        "from pyspark.sql.functions import col\n",
        "\n",
        "# local에 pyspark 설치필요\n",
        "!pip install pyspark\n",
        "import pyspark\n",
        "from pyspark.sql import *\n",
        "from pyspark.sql.functions import *\n",
        "from pyspark import SparkContext, SparkConf\n",
        "\n",
        "# # Spark 세션 생성\n",
        "spark = SparkSession.builder \\\n",
        "    .appName(\"RS_AmazonXTwitter\") \\\n",
        "    .getOrCreate()"
      ]
    },
    {
      "cell_type": "code",
      "execution_count": 2,
      "metadata": {
        "colab": {
          "base_uri": "https://localhost:8080/"
        },
        "collapsed": true,
        "id": "jePh_zIH4u3Q",
        "outputId": "085996ca-9bf4-4598-ecd5-d80bdfee8f3b"
      },
      "outputs": [
        {
          "output_type": "stream",
          "name": "stdout",
          "text": [
            "Requirement already satisfied: kaggle in /usr/local/lib/python3.10/dist-packages (1.6.17)\n",
            "Requirement already satisfied: six>=1.10 in /usr/local/lib/python3.10/dist-packages (from kaggle) (1.16.0)\n",
            "Requirement already satisfied: certifi>=2023.7.22 in /usr/local/lib/python3.10/dist-packages (from kaggle) (2024.8.30)\n",
            "Requirement already satisfied: python-dateutil in /usr/local/lib/python3.10/dist-packages (from kaggle) (2.8.2)\n",
            "Requirement already satisfied: requests in /usr/local/lib/python3.10/dist-packages (from kaggle) (2.32.3)\n",
            "Requirement already satisfied: tqdm in /usr/local/lib/python3.10/dist-packages (from kaggle) (4.66.6)\n",
            "Requirement already satisfied: python-slugify in /usr/local/lib/python3.10/dist-packages (from kaggle) (8.0.4)\n",
            "Requirement already satisfied: urllib3 in /usr/local/lib/python3.10/dist-packages (from kaggle) (2.2.3)\n",
            "Requirement already satisfied: bleach in /usr/local/lib/python3.10/dist-packages (from kaggle) (6.2.0)\n",
            "Requirement already satisfied: webencodings in /usr/local/lib/python3.10/dist-packages (from bleach->kaggle) (0.5.1)\n",
            "Requirement already satisfied: text-unidecode>=1.3 in /usr/local/lib/python3.10/dist-packages (from python-slugify->kaggle) (1.3)\n",
            "Requirement already satisfied: charset-normalizer<4,>=2 in /usr/local/lib/python3.10/dist-packages (from requests->kaggle) (3.4.0)\n",
            "Requirement already satisfied: idna<4,>=2.5 in /usr/local/lib/python3.10/dist-packages (from requests->kaggle) (3.10)\n",
            "Dataset URL: https://www.kaggle.com/datasets/kazanova/sentiment140\n",
            "License(s): other\n",
            "Downloading sentiment140.zip to /content\n",
            " 90% 73.0M/80.9M [00:00<00:00, 128MB/s]\n",
            "100% 80.9M/80.9M [00:00<00:00, 122MB/s]\n",
            "Dataset URL: https://www.kaggle.com/datasets/asaniczka/amazon-products-dataset-2023-1-4m-products\n",
            "License(s): ODC Attribution License (ODC-By)\n",
            "Downloading amazon-products-dataset-2023-1-4m-products.zip to /content\n",
            " 96% 95.0M/99.2M [00:00<00:00, 139MB/s]\n",
            "100% 99.2M/99.2M [00:00<00:00, 134MB/s]\n",
            "Archive:  sentiment140.zip\n",
            "  inflating: training.1600000.processed.noemoticon.csv  \n",
            "Archive:  amazon-products-dataset-2023-1-4m-products.zip\n",
            "  inflating: amazon_categories.csv   \n",
            "  inflating: amazon_products.csv     \n"
          ]
        }
      ],
      "source": [
        "# # Step 0: Get Kaggle API Key at Kaggle\n",
        "\n",
        "# # Step 1: Set Kaggle API Key\n",
        "# from google.colab import files\n",
        "# files.upload()  # kaggle.json file upload\n",
        "\n",
        "# # Step 2: API Key copy authorization\n",
        "# !mkdir -p ~/.kaggle\n",
        "# !cp kaggle.json ~/.kaggle/\n",
        "# !chmod 600 ~/.kaggle/kaggle.json\n",
        "\n",
        "# Step 3: Kaggle CLI 설치\n",
        "!pip install kaggle\n",
        "\n",
        "# Step 4: 데이터셋 다운로드\n",
        "!kaggle datasets download -d kazanova/sentiment140\n",
        "# !kaggle datasets download -d snap/amazon-fine-food-reviews\n",
        "# !kaggle datasets download -d karkavelrajaj/amazon-sales-dataset\n",
        "!kaggle datasets download -d asaniczka/amazon-products-dataset-2023-1-4m-products\n",
        "# !kaggle datasets download -d mexwell/amazon-reviews-multi\n",
        "\n",
        "\n",
        "# Step 5: 데이터 압축 해제\n",
        "!unzip sentiment140.zip\n",
        "# !unzip amazon-fine-food-reviews.zip\n",
        "# !unzip amazon-sales-dataset.zip\n",
        "!unzip amazon-products-dataset-2023-1-4m-products.zip\n",
        "# !unzip amazon-reviews-multi.zip"
      ]
    },
    {
      "cell_type": "markdown",
      "metadata": {
        "id": "psvfGRIXC_xq"
      },
      "source": [
        "# 1. Twitter data"
      ]
    },
    {
      "cell_type": "code",
      "execution_count": 138,
      "metadata": {
        "id": "nFdpqZciA5El",
        "colab": {
          "base_uri": "https://localhost:8080/",
          "height": 810
        },
        "outputId": "913e69f1-e8a8-473a-980c-b6fe66838c02"
      },
      "outputs": [
        {
          "output_type": "stream",
          "name": "stdout",
          "text": [
            "root\n",
            " |-- id: string (nullable = true)\n",
            " |-- author: string (nullable = true)\n",
            " |-- content: string (nullable = true)\n",
            "\n",
            "+----------+---------------+--------------------+\n",
            "|        id|         author|             content|\n",
            "+----------+---------------+--------------------+\n",
            "|1467810369|_TheSpecialOne_|@switchfoot http:...|\n",
            "|1467810672|  scotthamilton|is upset that he ...|\n",
            "|1467810917|       mattycus|@Kenichan I dived...|\n",
            "|1467811184|        ElleCTF|my whole body fee...|\n",
            "|1467811193|         Karoli|@nationwideclass ...|\n",
            "+----------+---------------+--------------------+\n",
            "only showing top 5 rows\n",
            "\n",
            "total count :  1600000\n"
          ]
        },
        {
          "output_type": "stream",
          "name": "stderr",
          "text": [
            "ERROR:root:KeyboardInterrupt while sending command.\n",
            "Traceback (most recent call last):\n",
            "  File \"/usr/local/lib/python3.10/dist-packages/py4j/java_gateway.py\", line 1038, in send_command\n",
            "    response = connection.send_command(command)\n",
            "  File \"/usr/local/lib/python3.10/dist-packages/py4j/clientserver.py\", line 511, in send_command\n",
            "    answer = smart_decode(self.stream.readline()[:-1])\n",
            "  File \"/usr/lib/python3.10/socket.py\", line 705, in readinto\n",
            "    return self._sock.recv_into(b)\n",
            "KeyboardInterrupt\n"
          ]
        },
        {
          "output_type": "error",
          "ename": "KeyboardInterrupt",
          "evalue": "",
          "traceback": [
            "\u001b[0;31m---------------------------------------------------------------------------\u001b[0m",
            "\u001b[0;31mKeyboardInterrupt\u001b[0m                         Traceback (most recent call last)",
            "\u001b[0;32m<ipython-input-138-b7479b3265a8>\u001b[0m in \u001b[0;36m<cell line: 29>\u001b[0;34m()\u001b[0m\n\u001b[1;32m     27\u001b[0m \u001b[0;34m\u001b[0m\u001b[0m\n\u001b[1;32m     28\u001b[0m \u001b[0mprint\u001b[0m\u001b[0;34m(\u001b[0m\u001b[0;34m\"total count : \"\u001b[0m\u001b[0;34m,\u001b[0m\u001b[0mtw_formatted_df\u001b[0m\u001b[0;34m.\u001b[0m\u001b[0mcount\u001b[0m\u001b[0;34m(\u001b[0m\u001b[0;34m)\u001b[0m\u001b[0;34m)\u001b[0m\u001b[0;34m\u001b[0m\u001b[0;34m\u001b[0m\u001b[0m\n\u001b[0;32m---> 29\u001b[0;31m \u001b[0mprint\u001b[0m\u001b[0;34m(\u001b[0m\u001b[0;34m\"authors count : \"\u001b[0m\u001b[0;34m,\u001b[0m\u001b[0mauthors\u001b[0m\u001b[0;34m.\u001b[0m\u001b[0mcount\u001b[0m\u001b[0;34m(\u001b[0m\u001b[0;34m)\u001b[0m\u001b[0;34m)\u001b[0m\u001b[0;34m\u001b[0m\u001b[0;34m\u001b[0m\u001b[0m\n\u001b[0m",
            "\u001b[0;32m/usr/local/lib/python3.10/dist-packages/pyspark/sql/dataframe.py\u001b[0m in \u001b[0;36mcount\u001b[0;34m(self)\u001b[0m\n\u001b[1;32m   1238\u001b[0m         \u001b[0;36m3\u001b[0m\u001b[0;34m\u001b[0m\u001b[0;34m\u001b[0m\u001b[0m\n\u001b[1;32m   1239\u001b[0m         \"\"\"\n\u001b[0;32m-> 1240\u001b[0;31m         \u001b[0;32mreturn\u001b[0m \u001b[0mint\u001b[0m\u001b[0;34m(\u001b[0m\u001b[0mself\u001b[0m\u001b[0;34m.\u001b[0m\u001b[0m_jdf\u001b[0m\u001b[0;34m.\u001b[0m\u001b[0mcount\u001b[0m\u001b[0;34m(\u001b[0m\u001b[0;34m)\u001b[0m\u001b[0;34m)\u001b[0m\u001b[0;34m\u001b[0m\u001b[0;34m\u001b[0m\u001b[0m\n\u001b[0m\u001b[1;32m   1241\u001b[0m \u001b[0;34m\u001b[0m\u001b[0m\n\u001b[1;32m   1242\u001b[0m     \u001b[0;32mdef\u001b[0m \u001b[0mcollect\u001b[0m\u001b[0;34m(\u001b[0m\u001b[0mself\u001b[0m\u001b[0;34m)\u001b[0m \u001b[0;34m->\u001b[0m \u001b[0mList\u001b[0m\u001b[0;34m[\u001b[0m\u001b[0mRow\u001b[0m\u001b[0;34m]\u001b[0m\u001b[0;34m:\u001b[0m\u001b[0;34m\u001b[0m\u001b[0;34m\u001b[0m\u001b[0m\n",
            "\u001b[0;32m/usr/local/lib/python3.10/dist-packages/py4j/java_gateway.py\u001b[0m in \u001b[0;36m__call__\u001b[0;34m(self, *args)\u001b[0m\n\u001b[1;32m   1319\u001b[0m             \u001b[0mproto\u001b[0m\u001b[0;34m.\u001b[0m\u001b[0mEND_COMMAND_PART\u001b[0m\u001b[0;34m\u001b[0m\u001b[0;34m\u001b[0m\u001b[0m\n\u001b[1;32m   1320\u001b[0m \u001b[0;34m\u001b[0m\u001b[0m\n\u001b[0;32m-> 1321\u001b[0;31m         \u001b[0manswer\u001b[0m \u001b[0;34m=\u001b[0m \u001b[0mself\u001b[0m\u001b[0;34m.\u001b[0m\u001b[0mgateway_client\u001b[0m\u001b[0;34m.\u001b[0m\u001b[0msend_command\u001b[0m\u001b[0;34m(\u001b[0m\u001b[0mcommand\u001b[0m\u001b[0;34m)\u001b[0m\u001b[0;34m\u001b[0m\u001b[0;34m\u001b[0m\u001b[0m\n\u001b[0m\u001b[1;32m   1322\u001b[0m         return_value = get_return_value(\n\u001b[1;32m   1323\u001b[0m             answer, self.gateway_client, self.target_id, self.name)\n",
            "\u001b[0;32m/usr/local/lib/python3.10/dist-packages/py4j/java_gateway.py\u001b[0m in \u001b[0;36msend_command\u001b[0;34m(self, command, retry, binary)\u001b[0m\n\u001b[1;32m   1036\u001b[0m         \u001b[0mconnection\u001b[0m \u001b[0;34m=\u001b[0m \u001b[0mself\u001b[0m\u001b[0;34m.\u001b[0m\u001b[0m_get_connection\u001b[0m\u001b[0;34m(\u001b[0m\u001b[0;34m)\u001b[0m\u001b[0;34m\u001b[0m\u001b[0;34m\u001b[0m\u001b[0m\n\u001b[1;32m   1037\u001b[0m         \u001b[0;32mtry\u001b[0m\u001b[0;34m:\u001b[0m\u001b[0;34m\u001b[0m\u001b[0;34m\u001b[0m\u001b[0m\n\u001b[0;32m-> 1038\u001b[0;31m             \u001b[0mresponse\u001b[0m \u001b[0;34m=\u001b[0m \u001b[0mconnection\u001b[0m\u001b[0;34m.\u001b[0m\u001b[0msend_command\u001b[0m\u001b[0;34m(\u001b[0m\u001b[0mcommand\u001b[0m\u001b[0;34m)\u001b[0m\u001b[0;34m\u001b[0m\u001b[0;34m\u001b[0m\u001b[0m\n\u001b[0m\u001b[1;32m   1039\u001b[0m             \u001b[0;32mif\u001b[0m \u001b[0mbinary\u001b[0m\u001b[0;34m:\u001b[0m\u001b[0;34m\u001b[0m\u001b[0;34m\u001b[0m\u001b[0m\n\u001b[1;32m   1040\u001b[0m                 \u001b[0;32mreturn\u001b[0m \u001b[0mresponse\u001b[0m\u001b[0;34m,\u001b[0m \u001b[0mself\u001b[0m\u001b[0;34m.\u001b[0m\u001b[0m_create_connection_guard\u001b[0m\u001b[0;34m(\u001b[0m\u001b[0mconnection\u001b[0m\u001b[0;34m)\u001b[0m\u001b[0;34m\u001b[0m\u001b[0;34m\u001b[0m\u001b[0m\n",
            "\u001b[0;32m/usr/local/lib/python3.10/dist-packages/py4j/clientserver.py\u001b[0m in \u001b[0;36msend_command\u001b[0;34m(self, command)\u001b[0m\n\u001b[1;32m    509\u001b[0m         \u001b[0;32mtry\u001b[0m\u001b[0;34m:\u001b[0m\u001b[0;34m\u001b[0m\u001b[0;34m\u001b[0m\u001b[0m\n\u001b[1;32m    510\u001b[0m             \u001b[0;32mwhile\u001b[0m \u001b[0;32mTrue\u001b[0m\u001b[0;34m:\u001b[0m\u001b[0;34m\u001b[0m\u001b[0;34m\u001b[0m\u001b[0m\n\u001b[0;32m--> 511\u001b[0;31m                 \u001b[0manswer\u001b[0m \u001b[0;34m=\u001b[0m \u001b[0msmart_decode\u001b[0m\u001b[0;34m(\u001b[0m\u001b[0mself\u001b[0m\u001b[0;34m.\u001b[0m\u001b[0mstream\u001b[0m\u001b[0;34m.\u001b[0m\u001b[0mreadline\u001b[0m\u001b[0;34m(\u001b[0m\u001b[0;34m)\u001b[0m\u001b[0;34m[\u001b[0m\u001b[0;34m:\u001b[0m\u001b[0;34m-\u001b[0m\u001b[0;36m1\u001b[0m\u001b[0;34m]\u001b[0m\u001b[0;34m)\u001b[0m\u001b[0;34m\u001b[0m\u001b[0;34m\u001b[0m\u001b[0m\n\u001b[0m\u001b[1;32m    512\u001b[0m                 \u001b[0mlogger\u001b[0m\u001b[0;34m.\u001b[0m\u001b[0mdebug\u001b[0m\u001b[0;34m(\u001b[0m\u001b[0;34m\"Answer received: {0}\"\u001b[0m\u001b[0;34m.\u001b[0m\u001b[0mformat\u001b[0m\u001b[0;34m(\u001b[0m\u001b[0manswer\u001b[0m\u001b[0;34m)\u001b[0m\u001b[0;34m)\u001b[0m\u001b[0;34m\u001b[0m\u001b[0;34m\u001b[0m\u001b[0m\n\u001b[1;32m    513\u001b[0m                 \u001b[0;31m# Happens when a the other end is dead. There might be an empty\u001b[0m\u001b[0;34m\u001b[0m\u001b[0;34m\u001b[0m\u001b[0m\n",
            "\u001b[0;32m/usr/lib/python3.10/socket.py\u001b[0m in \u001b[0;36mreadinto\u001b[0;34m(self, b)\u001b[0m\n\u001b[1;32m    703\u001b[0m         \u001b[0;32mwhile\u001b[0m \u001b[0;32mTrue\u001b[0m\u001b[0;34m:\u001b[0m\u001b[0;34m\u001b[0m\u001b[0;34m\u001b[0m\u001b[0m\n\u001b[1;32m    704\u001b[0m             \u001b[0;32mtry\u001b[0m\u001b[0;34m:\u001b[0m\u001b[0;34m\u001b[0m\u001b[0;34m\u001b[0m\u001b[0m\n\u001b[0;32m--> 705\u001b[0;31m                 \u001b[0;32mreturn\u001b[0m \u001b[0mself\u001b[0m\u001b[0;34m.\u001b[0m\u001b[0m_sock\u001b[0m\u001b[0;34m.\u001b[0m\u001b[0mrecv_into\u001b[0m\u001b[0;34m(\u001b[0m\u001b[0mb\u001b[0m\u001b[0;34m)\u001b[0m\u001b[0;34m\u001b[0m\u001b[0;34m\u001b[0m\u001b[0m\n\u001b[0m\u001b[1;32m    706\u001b[0m             \u001b[0;32mexcept\u001b[0m \u001b[0mtimeout\u001b[0m\u001b[0;34m:\u001b[0m\u001b[0;34m\u001b[0m\u001b[0;34m\u001b[0m\u001b[0m\n\u001b[1;32m    707\u001b[0m                 \u001b[0mself\u001b[0m\u001b[0;34m.\u001b[0m\u001b[0m_timeout_occurred\u001b[0m \u001b[0;34m=\u001b[0m \u001b[0;32mTrue\u001b[0m\u001b[0;34m\u001b[0m\u001b[0;34m\u001b[0m\u001b[0m\n",
            "\u001b[0;31mKeyboardInterrupt\u001b[0m: "
          ]
        }
      ],
      "source": [
        "# file path\n",
        "input_file = \"/content/training.1600000.processed.noemoticon.csv\"\n",
        "\n",
        "# raw data\n",
        "tw_raw_df = spark.read.format(\"csv\").option(\"header\", \"false\").load(input_file)\n",
        "\n",
        "# set schema\n",
        "tw_schema = StructType([\n",
        "    StructField(\"target\", DoubleType(), True),   # Sentiment (0/1)\n",
        "    StructField(\"id\", DoubleType(), True),       # Tweet ID\n",
        "    StructField(\"date\", StringType(), True),     # Date\n",
        "    StructField(\"query\", StringType(), True),    # Query (if applicable)\n",
        "    StructField(\"author\", StringType(), True),   # Author/User\n",
        "    StructField(\"content\", StringType(), True),  # Tweet content\n",
        "])\n",
        "\n",
        "tw_formatted_df = tw_raw_df.toDF(*[field.name for field in tw_schema.fields])\n",
        "\n",
        "# select needed column\n",
        "tw_formatted_df = tw_formatted_df.select(\"id\", \"author\", \"content\")\n",
        "\n",
        "# check data\n",
        "tw_formatted_df.printSchema()\n",
        "tw_formatted_df.show(5)\n",
        "\n",
        "authors = tw_formatted_df.select(\"author\").distinct()\n",
        "\n",
        "print(\"total count : \",tw_formatted_df.count())\n",
        "print(\"authors count : \",authors.count())"
      ]
    },
    {
      "cell_type": "markdown",
      "source": [
        "**1.0. Preprocessing**"
      ],
      "metadata": {
        "id": "3kiiVecvgs0R"
      }
    },
    {
      "cell_type": "code",
      "source": [],
      "metadata": {
        "id": "rVVOeDdDg3wd"
      },
      "execution_count": null,
      "outputs": []
    },
    {
      "cell_type": "markdown",
      "source": [
        "**1-1. Categorized tweet by dictionary**"
      ],
      "metadata": {
        "id": "phYfzH-X0ceC"
      }
    },
    {
      "cell_type": "code",
      "source": [
        "# # from pyspark.sql.functions import col, lower, when, size, array, expr\n",
        "# from pyspark.sql.functions import explode, split, col, lower, count, desc, max\n",
        "\n",
        "# # 입력 파일 경로\n",
        "# input_file = \"/content/training.1600000.processed.noemoticon.csv\"\n",
        "\n",
        "# # 데이터 스키마 정의\n",
        "# tw_schema = StructType([\n",
        "#     StructField(\"target\", DoubleType(), True),\n",
        "#     StructField(\"id\", DoubleType(), True),\n",
        "#     StructField(\"date\", StringType(), True),\n",
        "#     StructField(\"query\", StringType(), True),\n",
        "#     StructField(\"author\", StringType(), True),\n",
        "#     StructField(\"content\", StringType(), True)\n",
        "# ])\n",
        "\n",
        "# # 데이터 로드 및 스키마 적용\n",
        "# tw_raw_df = spark.read.format(\"csv\").option(\"header\", \"false\").load(input_file)\n",
        "# tw_formatted_df = tw_raw_df.toDF(*[field.name for field in tw_schema.fields])\n",
        "\n",
        "# # 데이터 샘플링\n",
        "# categorized_df = tw_formatted_df.select(\"content\").sample(fraction=0.01, seed=42)\n",
        "\n",
        "# # 카테고리 키워드 딕셔너리 정의\n",
        "# category_keywords = {\n",
        "#     \"jewelry\": [\"ring\", \"necklace\", \"bracelet\", \"earrings\", \"pendant\", \"brooch\", \"chain\", \"charm\", \"gold\", \"silver\"],\n",
        "#     \"watch\": [\"watch\", \"timepiece\", \"chronograph\", \"quartz\", \"analog\", \"digital\", \"wristwatch\", \"strap\", \"dial\", \"bezel\"],\n",
        "#     \"drugstore\": [\"pharmacy\", \"medicine\", \"drugs\", \"prescription\", \"pill\", \"vitamin\", \"tablet\", \"pharmacist\", \"aspirin\", \"capsule\"],\n",
        "#     \"pet_products\": [\"pet\", \"dog\", \"cat\", \"fish\", \"bird\", \"hamster\", \"leash\", \"kennel\", \"collar\", \"aquarium\"],\n",
        "#     \"automotive\": [\"car\", \"vehicle\", \"engine\", \"automobile\", \"tire\", \"wheel\", \"battery\", \"transmission\", \"brake\", \"sedan\"],\n",
        "#     \"shoes\": [\"shoe\", \"sneakers\", \"boots\", \"heels\", \"sandals\", \"loafers\", \"oxfords\", \"slippers\", \"cleats\", \"flats\"],\n",
        "#     \"beauty\": [\"beauty\", \"makeup\", \"cosmetics\", \"lipstick\", \"skincare\", \"mascara\", \"foundation\", \"blush\", \"palette\", \"concealer\"],\n",
        "#     \"office_product\": [\"office\", \"stationery\", \"desk\", \"printer\", \"paper\", \"pen\", \"notebook\", \"folder\", \"calculator\", \"stapler\"],\n",
        "#     \"digital_ebook_purchase\": [\"ebook\", \"kindle\", \"digital book\", \"pdf\", \"epub\", \"audiobook\", \"download\", \"reader\", \"publication\", \"novel\"],\n",
        "#     \"lawn_and_garden\": [\"garden\", \"lawn\", \"yard\", \"mower\", \"fertilizer\", \"plant\", \"seeds\", \"shovel\", \"hedge\", \"sprinkler\"],\n",
        "#     \"kitchen\": [\"kitchen\", \"cookware\", \"appliance\", \"utensils\", \"cutlery\", \"oven\", \"stove\", \"pan\", \"mixer\", \"microwave\"],\n",
        "#     \"apparel\": [\"clothing\", \"apparel\", \"dress\", \"shirt\", \"jacket\", \"jeans\", \"skirt\", \"sweater\", \"suit\", \"blouse\"],\n",
        "#     \"industrial_supplies\": [\"industrial\", \"tools\", \"hardware\", \"equipment\", \"machinery\", \"fastener\", \"drill\", \"screwdriver\", \"wrench\", \"saw\"],\n",
        "#     \"wireless\": [\"wireless\", \"network\", \"wifi\", \"router\", \"modem\", \"signal\", \"antenna\", \"hotspot\", \"connectivity\", \"bluetooth\"],\n",
        "#     \"digital_video_download\": [\"video\", \"movie\", \"streaming\", \"download\", \"hd\", \"4k\", \"bluray\", \"rental\", \"cinema\", \"series\"],\n",
        "#     \"grocery\": [\"food\", \"grocery\", \"snacks\", \"vegetables\", \"fruits\", \"bread\", \"milk\", \"meat\", \"cereal\", \"beverage\"],\n",
        "#     \"personal_care_appliances\": [\"care\", \"appliance\", \"shaver\", \"toothbrush\", \"trimmer\", \"hairdryer\", \"curler\", \"straightener\", \"massager\", \"razor\"],\n",
        "#     \"furniture\": [\"furniture\", \"sofa\", \"table\", \"chair\", \"bed\", \"dresser\", \"cabinet\", \"shelf\", \"couch\", \"armchair\"],\n",
        "#     \"baby_product\": [\"baby\", \"infant\", \"crib\", \"diaper\", \"stroller\", \"bottle\", \"pacifier\", \"highchair\", \"blanket\", \"bib\"],\n",
        "#     \"electronics\": [\"electronics\", \"device\", \"gadget\", \"charger\", \"headphones\", \"camera\", \"tablet\", \"speaker\", \"remote\", \"monitor\"],\n",
        "#     \"sports\": [\"sports\", \"equipment\", \"fitness\", \"workout\", \"gear\", \"tennis\", \"soccer\", \"basketball\", \"yoga\", \"cycling\"],\n",
        "#     \"home\": [\"home\", \"house\", \"living\", \"decor\", \"curtains\", \"lighting\", \"rug\", \"pillow\", \"mirror\", \"wall art\"],\n",
        "#     \"pc\": [\"pc\", \"laptop\", \"computer\", \"keyboard\", \"mouse\", \"monitor\", \"cpu\", \"notebook\", \"desktop\", \"hardware\"],\n",
        "#     \"luggage\": [\"luggage\", \"bag\", \"suitcase\", \"backpack\", \"duffle\", \"trolley\", \"pouch\", \"wallet\", \"briefcase\", \"travel\"],\n",
        "#     \"home_improvement\": [\"improvement\", \"renovation\", \"diy\", \"paint\", \"tiles\", \"fixtures\", \"drill\", \"ladder\", \"flooring\", \"cement\"],\n",
        "#     \"toy\": [\"toy\", \"game\", \"doll\", \"lego\", \"puzzle\", \"blocks\", \"teddy\", \"action figure\", \"boardgame\", \"train\"],\n",
        "#     \"camera\": [\"camera\", \"dslr\", \"photo\", \"lens\", \"tripod\", \"shutter\", \"focus\", \"mirrorless\", \"film\", \"flash\"],\n",
        "#     \"book\": [\"book\", \"novel\", \"read\", \"fiction\", \"non-fiction\", \"magazine\", \"literature\", \"paperback\", \"hardcover\", \"author\"],\n",
        "#     \"video_games\": [\"game\", \"console\", \"xbox\", \"playstation\", \"nintendo\", \"pc gaming\", \"joystick\", \"controller\", \"esports\", \"arcade\"],\n",
        "#     \"musical_instruments\": [\"instrument\", \"guitar\", \"piano\", \"violin\", \"drums\", \"flute\", \"keyboard\", \"trumpet\", \"saxophone\", \"harp\"]\n",
        "# }\n",
        "\n",
        "\n",
        "# # 카테고리 키워드 데이터프레임 생성\n",
        "# categories = [(category, keyword) for category, keywords in category_keywords.items() for keyword in keywords]\n",
        "# category_df = spark.createDataFrame(categories, [\"category\", \"keyword\"])\n",
        "\n",
        "# # 트윗 내용을 단어로 분리\n",
        "# words_df = categorized_df.withColumn(\"word\", explode(split(lower(col(\"content\")), \"\\\\W+\")))\n",
        "\n",
        "# # 키워드와 트윗 단어 매칭\n",
        "# matched_df = words_df.join(\n",
        "#     category_df,\n",
        "#     words_df.word == category_df.keyword,\n",
        "#     \"inner\"\n",
        "# ).groupBy(\"content\", \"category\").agg(count(\"keyword\").alias(\"match_count\"))\n",
        "\n",
        "# categorized_df_with_alias = categorized_df.alias(\"categorized\")\n",
        "# matched_df_with_alias = matched_df.alias(\"matched\")\n",
        "\n",
        "# all_matched_df = categorized_df_with_alias.join(\n",
        "#     matched_df_with_alias,\n",
        "#     col(\"categorized.content\") == col(\"matched.content\"),\n",
        "#     \"left_outer\"\n",
        "# ).select(\n",
        "#     col(\"categorized.content\").alias(\"content\"),  # categorized_df의 content 열 선택\n",
        "#     coalesce(col(\"matched.category\"), lit(\"others\")).alias(\"category\"),  # 매칭되지 않은 경우 'others'로 설정\n",
        "#     coalesce(col(\"matched.match_count\"), lit(0)).alias(\"match_count\")   # 매칭되지 않은 경우 0으로 설정\n",
        "# )\n",
        "\n",
        "# # 최종 데이터 출력\n",
        "# all_matched_df.show(truncate=False)"
      ],
      "metadata": {
        "id": "PY8x2_icmGoJ"
      },
      "execution_count": null,
      "outputs": []
    },
    {
      "cell_type": "code",
      "source": [
        "# # 1. 카테고리별 개수 집계\n",
        "# category_counts = all_matched_df.groupBy(\"category\").count()\n",
        "\n",
        "# # 2. 전체 데이터 개수 계산\n",
        "# total_count = all_matched_df.count()\n",
        "\n",
        "# # 3. 비율 계산 (새로운 컬럼 추가)\n",
        "# category_ratios = category_counts.withColumn(\n",
        "#     \"ratio\", (col(\"count\") / total_count) * 100\n",
        "# )\n",
        "\n",
        "# # 4. Spark DataFrame을 Pandas DataFrame으로 변환\n",
        "# category_ratios_pd = category_ratios.toPandas()\n",
        "\n",
        "# # 5. 시각화: 눈금 조정\n",
        "# plt.figure(figsize=(10, 6))\n",
        "# plt.bar(category_ratios_pd['category'], category_ratios_pd['ratio'], alpha=0.7)\n",
        "# plt.title('Category Ratio Distribution', fontsize=16)\n",
        "# plt.xlabel('Category', fontsize=14)\n",
        "# plt.ylabel('Ratio (%)', fontsize=14)\n",
        "\n",
        "# # Y축 눈금과 범위 설정 (예: 최대값을 50%로 제한)\n",
        "# plt.ylim(0, 50)  # Y축 범위를 0~50으로 설정\n",
        "# plt.yticks(range(0, 51, 10))  # 0부터 50까지 10 단위 눈금\n",
        "\n",
        "# # X축 라벨 설정\n",
        "# plt.xticks(rotation=45)\n",
        "# plt.grid(axis='y', linestyle='--', alpha=0.7)\n",
        "# plt.tight_layout()\n",
        "\n",
        "# # 6. 그래프 출력\n",
        "# plt.show()"
      ],
      "metadata": {
        "id": "7KOe5xPe1D_c"
      },
      "execution_count": null,
      "outputs": []
    },
    {
      "cell_type": "code",
      "source": [
        "# specific_category = \"automotive\"\n",
        "# filtered_tweets = all_matched_df.filter(col(\"category\") == specific_category)\n",
        "# filtered_tweets.show(truncate=False)"
      ],
      "metadata": {
        "id": "_4riBXpc3dW5"
      },
      "execution_count": null,
      "outputs": []
    },
    {
      "cell_type": "markdown",
      "source": [
        "**1-2. Categorized tweet by TF-IDF**"
      ],
      "metadata": {
        "id": "GagZ6optgYHX"
      }
    },
    {
      "cell_type": "markdown",
      "source": [
        "# 2. Amazon Data"
      ],
      "metadata": {
        "id": "1NPRwxMPT1pL"
      }
    },
    {
      "cell_type": "markdown",
      "source": [
        "**2-1. asaniczka/amazon-products-dataset-2023-1-4m-products** :\n",
        "\n",
        "*   https://www.kaggle.com/datasets/asaniczka/amazon-products-dataset-2023-1-4m-products\n",
        "*   Category is too much.\n",
        "\n",
        "\n"
      ],
      "metadata": {
        "id": "Y03QwxMbd5kJ"
      }
    },
    {
      "cell_type": "code",
      "source": [
        "# file path\n",
        "product_path = \"/content/amazon_products.csv\"\n",
        "category_path = \"/content/amazon_categories.csv\"\n",
        "\n",
        "# raw data\n",
        "az_raw_df = spark.read.format(\"csv\") \\\n",
        "    .option(\"header\", \"true\") \\\n",
        "    .load(product_path)\n",
        "\n",
        "cat_df = spark.read.format(\"csv\") \\\n",
        "    .option(\"header\", \"true\") \\\n",
        "    .load(category_path)\n",
        "\n",
        "az_raw_df.printSchema()\n",
        "cat_df.printSchema()"
      ],
      "metadata": {
        "id": "IbXtAPyEd9n7",
        "colab": {
          "base_uri": "https://localhost:8080/"
        },
        "outputId": "6f08a6ab-7be8-4be7-a4a7-77bfc2aaacb6"
      },
      "execution_count": 178,
      "outputs": [
        {
          "output_type": "stream",
          "name": "stdout",
          "text": [
            "root\n",
            " |-- asin: string (nullable = true)\n",
            " |-- title: string (nullable = true)\n",
            " |-- imgUrl: string (nullable = true)\n",
            " |-- productURL: string (nullable = true)\n",
            " |-- stars: string (nullable = true)\n",
            " |-- reviews: string (nullable = true)\n",
            " |-- price: string (nullable = true)\n",
            " |-- listPrice: string (nullable = true)\n",
            " |-- category_id: string (nullable = true)\n",
            " |-- isBestSeller: string (nullable = true)\n",
            " |-- boughtInLastMonth: string (nullable = true)\n",
            "\n",
            "root\n",
            " |-- id: string (nullable = true)\n",
            " |-- category_name: string (nullable = true)\n",
            "\n"
          ]
        }
      ]
    },
    {
      "cell_type": "markdown",
      "source": [
        "데이터 정제"
      ],
      "metadata": {
        "id": "csfTgX6VoMFz"
      }
    },
    {
      "cell_type": "code",
      "source": [
        "filtered_df = az_raw_df.filter(\n",
        "    (col(\"title\").cast(\"int\").isNull())\n",
        ")\n",
        "\n",
        "filtered_df = az_raw_df.filter(\n",
        "    (col(\"category_id\").cast(\"int\").isNotNull()) &  # 정수로 변환 가능\n",
        "    (col(\"category_id\").cast(\"int\") >= 1) &        # 최소값 1\n",
        "    (col(\"category_id\").cast(\"int\") <= 270)        # 최대값 270\n",
        ")\n",
        "\n",
        "filtered_df = filtered_df.filter(\n",
        "    (col(\"stars\").cast(\"float\").isNotNull()) &  # 부동소수점으로 변환 가능\n",
        "    (col(\"stars\").cast(\"float\") >= 0) &        # 최소값 0\n",
        "    (col(\"stars\").cast(\"float\") <= 5)        # 최대값 5\n",
        ")\n",
        "\n",
        "filtered_df = filtered_df.filter(\n",
        "    (col(\"reviews\").cast(\"int\").isNotNull()) &  # 부동소수점으로 변환 가능\n",
        "    (col(\"reviews\").cast(\"int\") >= 0) &        # 최소값 0\n",
        "    (col(\"reviews\").cast(\"int\") <= 100)        # 최대값 100 (임의로 정함)\n",
        ")\n",
        "\n",
        "cleaned_df = filtered_df\\\n",
        "  .withColumn(\"category_id\", col(\"category_id\").cast(\"int\"))\\\n",
        "  .withColumn(\"stars\", col(\"stars\").cast(\"float\"))\\\n",
        "  .withColumn(\"reviews\", col(\"reviews\").cast(\"int\"))\n",
        "\n",
        "# 결과 확인\n",
        "# cleaned_df.show()\n",
        "cleaned_df.select(\"asin\",\"title\",\"stars\",\"reviews\",\"category_id\").describe().show()"
      ],
      "metadata": {
        "colab": {
          "base_uri": "https://localhost:8080/"
        },
        "id": "0ONvFRDKWomL",
        "outputId": "08c14f6f-6725-43b2-f602-1908304000ae"
      },
      "execution_count": 179,
      "outputs": [
        {
          "output_type": "stream",
          "name": "stdout",
          "text": [
            "+-------+--------------------+--------------------+------------------+------------------+-----------------+\n",
            "|summary|                asin|               title|             stars|           reviews|      category_id|\n",
            "+-------+--------------------+--------------------+------------------+------------------+-----------------+\n",
            "|  count|             1228601|             1228601|           1228601|           1228601|          1228601|\n",
            "|   mean|1.7932850190857334E9|3.846153846153846...|3.9480175339364014| 3.310014398490641|123.8509182395261|\n",
            "| stddev|1.8480468674133875E9|            Infinity|1.4063996948736122|13.033869416810788|72.83617705402432|\n",
            "|    min|          0007268149| AIYUENCICI Funny...|               0.0|                 0|                1|\n",
            "|    max|          BT00CTP93I|📬 United States ...|               5.0|               100|              270|\n",
            "+-------+--------------------+--------------------+------------------+------------------+-----------------+\n",
            "\n"
          ]
        }
      ]
    },
    {
      "cell_type": "code",
      "source": [
        "# from pyspark.sql.functions import col, length\n",
        "\n",
        "# # title 열의 길이 계산\n",
        "# title_with_lengths = cleaned_df.withColumn(\"title_length\", length(col(\"title\")))\n",
        "\n",
        "# # 최소 길이의 요소 찾기\n",
        "# min_length_row = title_with_lengths.orderBy(col(\"title_length\").asc()).first()\n",
        "\n",
        "# # 최대 길이의 요소 찾기\n",
        "# max_length_row = title_with_lengths.orderBy(col(\"title_length\").desc()).first()\n",
        "\n",
        "# # 결과 출력\n",
        "# print(f\"최소 길이 요소: {min_length_row['title']} (길이: {min_length_row['title_length']})\")\n",
        "# print(f\"최대 길이 요소: {max_length_row['title']} (길이: {max_length_row['title_length']})\")"
      ],
      "metadata": {
        "id": "BDBHBz0xphJZ"
      },
      "execution_count": 176,
      "outputs": []
    },
    {
      "cell_type": "markdown",
      "source": [
        "각 열의 고유한 값 확인"
      ],
      "metadata": {
        "id": "X_OwQ0eZsnQX"
      }
    },
    {
      "cell_type": "code",
      "source": [
        "# asin의 고유 값과 비율 계산\n",
        "asin_distribution = cleaned_df.groupBy(\"asin\").count()\n",
        "\n",
        "# 전체 데이터 수 계산\n",
        "total_count = cleaned_df.count()\n",
        "\n",
        "# 비율 계산 추가\n",
        "asin_distribution = asin_distribution.withColumn(\"percentage\", (col(\"count\") / total_count) * 100)\n",
        "\n",
        "# percentage 기준으로 내림차순 정렬\n",
        "asin_distribution = asin_distribution.orderBy(col(\"percentage\").desc())\n",
        "\n",
        "# 결과 출력\n",
        "asin_distribution.show()\n",
        "\n",
        "unique_count = cleaned_df.select(\"asin\").distinct().count()\n",
        "print(f\"asin의 고유 값 개수: {unique_count}\")"
      ],
      "metadata": {
        "colab": {
          "base_uri": "https://localhost:8080/"
        },
        "id": "XpKaw-7Qo0by",
        "outputId": "31ef73e1-7ce0-4e4e-9647-ed0fad6a7c69"
      },
      "execution_count": 165,
      "outputs": [
        {
          "output_type": "stream",
          "name": "stdout",
          "text": [
            "+----------+-----+--------------------+\n",
            "|      asin|count|          percentage|\n",
            "+----------+-----+--------------------+\n",
            "|B09R35YK22|    1|8.139338971724751E-5|\n",
            "|B08XMYH4L2|    1|8.139338971724751E-5|\n",
            "|B0BSYVWQMN|    1|8.139338971724751E-5|\n",
            "|B07G23DCNL|    1|8.139338971724751E-5|\n",
            "|B07JJBDP68|    1|8.139338971724751E-5|\n",
            "|B084MHG7GG|    1|8.139338971724751E-5|\n",
            "|B06XCQSPKL|    1|8.139338971724751E-5|\n",
            "|B0C4NR75R2|    1|8.139338971724751E-5|\n",
            "|B07Q34YLTW|    1|8.139338971724751E-5|\n",
            "|B01L8JJ57U|    1|8.139338971724751E-5|\n",
            "|B00HG4ER9I|    1|8.139338971724751E-5|\n",
            "|B07VTSD48H|    1|8.139338971724751E-5|\n",
            "|B071P2M86D|    1|8.139338971724751E-5|\n",
            "|B01K5YKEA6|    1|8.139338971724751E-5|\n",
            "|B09RSCJTVL|    1|8.139338971724751E-5|\n",
            "|B074XY7MTG|    1|8.139338971724751E-5|\n",
            "|B0BBTZ9F76|    1|8.139338971724751E-5|\n",
            "|B087CHW9B7|    1|8.139338971724751E-5|\n",
            "|B0BK11PDLL|    1|8.139338971724751E-5|\n",
            "|B07L6LH5N9|    1|8.139338971724751E-5|\n",
            "+----------+-----+--------------------+\n",
            "only showing top 20 rows\n",
            "\n",
            "asin의 고유 값 개수: 1228601\n"
          ]
        }
      ]
    },
    {
      "cell_type": "code",
      "source": [
        "# title의 고유 값과 비율 계산\n",
        "title_distribution = cleaned_df.groupBy(\"title\").count()\n",
        "\n",
        "# 전체 데이터 수 계산\n",
        "total_count = cleaned_df.count()\n",
        "\n",
        "# 비율 계산 추가\n",
        "title_distribution = title_distribution.withColumn(\"percentage\", (col(\"count\") / total_count) * 100)\n",
        "\n",
        "# percentage 기준으로 내림차순 정렬\n",
        "title_distribution = title_distribution.orderBy(col(\"percentage\").desc())\n",
        "\n",
        "# 결과 출력\n",
        "title_distribution.show()\n",
        "\n",
        "unique_count = cleaned_df.select(\"title\").distinct().count()\n",
        "print(f\"title의 고유 값 개수: {unique_count}\")"
      ],
      "metadata": {
        "colab": {
          "base_uri": "https://localhost:8080/"
        },
        "id": "sjtFwWlZo8DD",
        "outputId": "cd6076e2-db67-4793-dded-aa7c23cafe96"
      },
      "execution_count": 171,
      "outputs": [
        {
          "output_type": "stream",
          "name": "stdout",
          "text": [
            "+--------------------+-----+--------------------+\n",
            "|               title|count|          percentage|\n",
            "+--------------------+-----+--------------------+\n",
            "|         mens Modern|   85|0.006918438125966038|\n",
            "|       Men's Sneaker|   84| 0.00683704473624879|\n",
            "|Men's Ultraboost ...|   83|0.006755651346531544|\n",
            "|Sleep and Play PJ...|   77|0.006267291008228...|\n",
            "|        mens Sneaker|   69|0.005616143890490078|\n",
            "|Amazon.com Gift C...|   64|0.005209176941903841|\n",
            "|Burt's Bees Baby ...|   62|0.005046390162469345|\n",
            "|BCB Controller Cu...|   60| 0.00488360338303485|\n",
            "|Men's Running Sho...|   54|0.004395243044731365|\n",
            "|     Women's Sneaker|   53|0.004313849655014118|\n",
            "|Men's Newport H2 ...|   52| 0.00423245626529687|\n",
            "|Customized lenses...|   43|0.003499915757841643|\n",
            "|Multipack 2-Piece...|   39|0.003174342198972...|\n",
            "|Kids' Plastic Tim...|   36| 0.00293016202982091|\n",
            "|Girl's Limited Ed...|   35|0.002848768640103...|\n",
            "|Unisex-Child Sneaker|   33|0.002685981860669168|\n",
            "|Princess Kids' Pl...|   31|0.002523195081234...|\n",
            "|Girls' and Toddle...|   30|0.002441801691517425|\n",
            "|Front Shell Housi...|   30|0.002441801691517425|\n",
            "|Men's Stag XE Ska...|   29|0.002360408301800...|\n",
            "+--------------------+-----+--------------------+\n",
            "only showing top 20 rows\n",
            "\n",
            "title의 고유 값 개수: 1198610\n"
          ]
        }
      ]
    },
    {
      "cell_type": "code",
      "source": [
        "# category_id의 고유 값과 비율 계산\n",
        "category_id_distribution = cleaned_df.groupBy(\"category_id\").count()\n",
        "\n",
        "# 전체 데이터 수 계산\n",
        "total_count = cleaned_df.count()\n",
        "\n",
        "# 비율 계산 추가\n",
        "category_id_distribution = category_id_distribution.withColumn(\"percentage\", (col(\"count\") / total_count) * 100)\n",
        "\n",
        "# percentage 기준으로 내림차순 정렬\n",
        "category_id_distribution = category_id_distribution.orderBy(col(\"percentage\").desc())\n",
        "\n",
        "# 결과 출력\n",
        "category_id_distribution.show()\n",
        "\n",
        "unique_count = cleaned_df.select(\"category_id\").distinct().count()\n",
        "print(f\"category_id의 고유 값 개수: {unique_count}\")"
      ],
      "metadata": {
        "colab": {
          "base_uri": "https://localhost:8080/"
        },
        "id": "pIYLinGhlIBo",
        "outputId": "d99703f1-8e94-41fc-ccac-ececfab98cec"
      },
      "execution_count": 153,
      "outputs": [
        {
          "output_type": "stream",
          "name": "stdout",
          "text": [
            "+-----------+-----+------------------+\n",
            "|category_id|count|        percentage|\n",
            "+-----------+-----+------------------+\n",
            "|         91|28613|2.0845976696627035|\n",
            "|         84|24646|1.7955822236922725|\n",
            "|        270|20531|1.4957842503702852|\n",
            "|        114|19657|1.4321090550644728|\n",
            "|        118|18968|1.3819120189481062|\n",
            "|         95|18431|1.3427889298414457|\n",
            "|        110|18215|1.3270522683013366|\n",
            "|        112|17573|1.2802794131682342|\n",
            "|        116|17371|1.2655627204316506|\n",
            "|        123|16882|1.2299366672227925|\n",
            "|        105|16085| 1.171871300336371|\n",
            "|        122|15605|1.1369009413583506|\n",
            "|        173|14644|1.0668873684877724|\n",
            "|        120|13868|1.0103519548066395|\n",
            "|        113|12817|0.9337814396276822|\n",
            "|         97|10935|0.7966684904680273|\n",
            "|         88|10800|0.7868330770054591|\n",
            "|         51| 9481|0.6907374447304404|\n",
            "|        107| 9383|0.6835976631057613|\n",
            "|         72| 9249|0.6738351045577305|\n",
            "+-----------+-----+------------------+\n",
            "only showing top 20 rows\n",
            "\n",
            "category_id의 고유 값 개수: 248\n"
          ]
        }
      ]
    },
    {
      "cell_type": "code",
      "source": [
        "# stars의 고유 값과 비율 계산\n",
        "stars_distribution = cleaned_df.groupBy(\"stars\").count()\n",
        "\n",
        "# 전체 데이터 수 계산\n",
        "total_count = cleaned_df.count()\n",
        "\n",
        "# 비율 계산 추가\n",
        "stars_distribution = stars_distribution.withColumn(\"percentage\", (col(\"count\") / total_count) * 100)\n",
        "\n",
        "# percentage 기준으로 내림차순 정렬\n",
        "stars_distribution = stars_distribution.orderBy(col(\"percentage\").desc())\n",
        "\n",
        "# 결과 출력\n",
        "stars_distribution.show()\n",
        "\n",
        "unique_count = cleaned_df.select(\"stars\").distinct().count()\n",
        "print(f\"stars의 고유 값 개수: {unique_count}\")"
      ],
      "metadata": {
        "colab": {
          "base_uri": "https://localhost:8080/"
        },
        "id": "FYvlezRjfkFz",
        "outputId": "84bc71b7-5220-4b21-d5dd-cf130320c719"
      },
      "execution_count": 151,
      "outputs": [
        {
          "output_type": "stream",
          "name": "stdout",
          "text": [
            "+-----+------+------------------+\n",
            "|stars| count|        percentage|\n",
            "+-----+------+------------------+\n",
            "|  4.6|168423|12.931026540301826|\n",
            "|  4.5|161680|12.413318674029076|\n",
            "|  4.7|140971|10.823342075683778|\n",
            "|  4.4|132071|10.140026042786332|\n",
            "|  0.0|111314| 8.546364144488326|\n",
            "|  4.3|103687| 7.960785337419922|\n",
            "|  5.0| 86749|6.6603351166090325|\n",
            "|  4.8| 75496|  5.79636260894668|\n",
            "|  4.2| 74754| 5.739394013844444|\n",
            "|  4.1| 53258| 4.088993851691246|\n",
            "|  4.0| 46990|3.6077550995338097|\n",
            "|  3.9| 28894| 2.218397017363905|\n",
            "|  3.8| 21835|1.6764275930691792|\n",
            "|  4.9| 20217| 1.552202273830071|\n",
            "|  3.7| 15074|1.1573377393141657|\n",
            "|  3.6| 11489|0.8820918990964873|\n",
            "|  3.5| 10133|0.7779821754325621|\n",
            "|  3.0|  6733|0.5169400954492688|\n",
            "|  3.4|  6729|0.5166329871198767|\n",
            "|  3.3|  5258|0.4036938989859283|\n",
            "+-----+------+------------------+\n",
            "only showing top 20 rows\n",
            "\n",
            "stars의 고유 값 개수: 41\n"
          ]
        }
      ]
    },
    {
      "cell_type": "code",
      "source": [
        "# reviews의 고유 값과 비율 계산\n",
        "reviews_distribution = cleaned_df.groupBy(\"reviews\").count()\n",
        "\n",
        "# 전체 데이터 수 계산\n",
        "total_count = cleaned_df.count()\n",
        "\n",
        "# 비율 계산 추가\n",
        "reviews_distribution = reviews_distribution.withColumn(\"percentage\", (col(\"count\") / total_count) * 100)\n",
        "\n",
        "# percentage 기준으로 내림차순 정렬\n",
        "reviews_distribution = reviews_distribution.orderBy(col(\"percentage\").desc())\n",
        "\n",
        "# 결과 출력\n",
        "reviews_distribution.show()\n",
        "\n",
        "unique_count = cleaned_df.select(\"reviews\").distinct().count()\n",
        "print(f\"reviews의 고유 값 개수: {unique_count}\")"
      ],
      "metadata": {
        "colab": {
          "base_uri": "https://localhost:8080/"
        },
        "id": "0pkKD5dQnjWT",
        "outputId": "3ed47e6d-b458-41a8-f028-cc75c2d894be"
      },
      "execution_count": 161,
      "outputs": [
        {
          "output_type": "stream",
          "name": "stdout",
          "text": [
            "+-------+-------+-------------------+\n",
            "|reviews|  count|         percentage|\n",
            "+-------+-------+-------------------+\n",
            "|      0|1085850|   88.3810122244732|\n",
            "|      1|  11200| 0.9116059648331721|\n",
            "|      2|   8241| 0.6707629246598367|\n",
            "|      3|   6442| 0.5243362165585085|\n",
            "|      4|   5364| 0.4365941424433156|\n",
            "|      5|   4528|0.36854926863969667|\n",
            "|      6|   4103| 0.3339570780098665|\n",
            "|      7|   3633| 0.2957021848427602|\n",
            "|      8|   3276| 0.2666447447137028|\n",
            "|      9|   3063| 0.2493079527039291|\n",
            "|     10|   2849|0.23188976730443814|\n",
            "|     11|   2630|0.21406461495636092|\n",
            "|     12|   2457| 0.1999835585352771|\n",
            "|     13|   2399|0.19526274193167678|\n",
            "|     14|   2271|0.18484438804786907|\n",
            "|     16|   2074|0.16880989027357132|\n",
            "|     15|   2062|0.16783316959696437|\n",
            "|     17|   2056|0.16734480925866085|\n",
            "|     18|   1911|0.15554276774965997|\n",
            "|     19|   1843|0.15000801724888715|\n",
            "+-------+-------+-------------------+\n",
            "only showing top 20 rows\n",
            "\n",
            "reviews의 고유 값 개수: 101\n"
          ]
        }
      ]
    },
    {
      "cell_type": "markdown",
      "source": [
        "데이터 스키마 적용"
      ],
      "metadata": {
        "id": "sKxwoF8gss4d"
      }
    },
    {
      "cell_type": "code",
      "source": [
        "az_df = cleaned_df.select(\"asin\", \"title\", \"stars\",\"reviews\",\"category_id\")\n",
        "\n",
        "az_df = az_df \\\n",
        "    .withColumn(\"stars\", col(\"stars\").cast(FloatType())) \\\n",
        "    .withColumn(\"reviews\", col(\"reviews\").cast(IntegerType())) \\\n",
        "    .withColumn(\"category_id\", col(\"category_id\").cast(IntegerType()))\n",
        "\n",
        "az_schema = StructType([\n",
        "    StructField(\"asin\", StringType(), False),         # asin: StringType, nullable=False\n",
        "    StructField(\"title\", StringType(), False),        # title: StringType, nullable=False\n",
        "    StructField(\"stars\", FloatType(), True),          # stars: FloatType, nullable=True\n",
        "    StructField(\"reviews\", IntegerType(), True),      # reviews: IntegerType, nullable=True\n",
        "    StructField(\"category_id\", IntegerType(), False),  # category_id: IntegerType, nullable=False\n",
        "])\n",
        "\n",
        "az_formatted_df = spark.createDataFrame(az_df.rdd, schema=az_schema)\n",
        "\n",
        "# 고유 값 출력\n",
        "print(\"정제된 데이터 개수 : \",az_formatted_df.count())"
      ],
      "metadata": {
        "colab": {
          "base_uri": "https://localhost:8080/"
        },
        "id": "v0TqQB_SRWtF",
        "outputId": "a67a9239-696a-44dd-9284-34dc870467b9"
      },
      "execution_count": 180,
      "outputs": [
        {
          "output_type": "stream",
          "name": "stdout",
          "text": [
            "정제된 데이터 개수 :  1228601\n"
          ]
        }
      ]
    },
    {
      "cell_type": "code",
      "source": [
        "cat_df = cat_df \\\n",
        "    .withColumn(\"id\", col(\"id\").cast(IntegerType()))\\\n",
        "    .withColumn(\"category_name\", col(\"category_name\").cast(StringType()))\n",
        "\n",
        "cat_schema = StructType([\n",
        "    StructField(\"id\", IntegerType(), False),         # asin: StringType, nullable=False\n",
        "    StructField(\"category_name\", StringType(), False),        # title: StringType, nullable=False\n",
        "])\n",
        "\n",
        "cat_formatted_df = spark.createDataFrame(cat_df.rdd, schema=cat_schema)\n",
        "\n",
        "cat_formatted_df = cat_formatted_df.fillna({\"id\": 0, \"category_name\": \"Unknown\"})\n",
        "\n",
        "cat_formatted_df.printSchema()\n",
        "cat_formatted_df.show()"
      ],
      "metadata": {
        "colab": {
          "base_uri": "https://localhost:8080/"
        },
        "id": "ct4nVSty_IjS",
        "outputId": "c2b4d294-f8db-432e-9330-ecc747e77650"
      },
      "execution_count": 181,
      "outputs": [
        {
          "output_type": "stream",
          "name": "stdout",
          "text": [
            "root\n",
            " |-- id: integer (nullable = false)\n",
            " |-- category_name: string (nullable = false)\n",
            "\n",
            "+---+--------------------+\n",
            "| id|       category_name|\n",
            "+---+--------------------+\n",
            "|  1|Beading & Jewelry...|\n",
            "|  2|   Fabric Decorating|\n",
            "|  3|Knitting & Croche...|\n",
            "|  4|Printmaking Supplies|\n",
            "|  5|Scrapbooking & St...|\n",
            "|  6|     Sewing Products|\n",
            "|  7|Craft & Hobby Fabric|\n",
            "|  8| Needlework Supplies|\n",
            "|  9|Arts, Crafts & Se...|\n",
            "| 10|Painting, Drawing...|\n",
            "| 11|Craft Supplies & ...|\n",
            "| 12|Gift Wrapping Sup...|\n",
            "| 13|   Party Decorations|\n",
            "| 14|Automotive Paint ...|\n",
            "| 15|Heavy Duty & Comm...|\n",
            "| 16|Automotive Tires ...|\n",
            "| 17|Automotive Tools ...|\n",
            "| 18|Automotive Perfor...|\n",
            "| 19|            Car Care|\n",
            "| 20|       Oils & Fluids|\n",
            "+---+--------------------+\n",
            "only showing top 20 rows\n",
            "\n"
          ]
        }
      ]
    },
    {
      "cell_type": "markdown",
      "source": [
        "두 데이터 병합"
      ],
      "metadata": {
        "id": "qdlVv3NQOlWi"
      }
    },
    {
      "cell_type": "code",
      "source": [
        "joined_df = az_formatted_df.join(cat_formatted_df, az_formatted_df.category_id == cat_formatted_df.id, \"inner\")\n",
        "\n",
        "joined_df = joined_df.select(\n",
        "    \"asin\",\n",
        "    \"title\",\n",
        "    \"stars\",\n",
        "    \"reviews\",\n",
        "    \"category_id\",\n",
        "    \"category_name\",\n",
        ")\n",
        "\n",
        "# 결과 확인\n",
        "joined_df.printSchema()\n",
        "joined_df.show()\n"
      ],
      "metadata": {
        "colab": {
          "base_uri": "https://localhost:8080/"
        },
        "id": "-RcXCdZzNugL",
        "outputId": "8af5124d-2990-479e-9d4b-db58d4fcf706"
      },
      "execution_count": 182,
      "outputs": [
        {
          "output_type": "stream",
          "name": "stdout",
          "text": [
            "root\n",
            " |-- asin: string (nullable = false)\n",
            " |-- title: string (nullable = false)\n",
            " |-- stars: float (nullable = true)\n",
            " |-- reviews: integer (nullable = true)\n",
            " |-- category_id: integer (nullable = false)\n",
            " |-- category_name: string (nullable = false)\n",
            "\n",
            "+----------+--------------------+-----+-------+-----------+--------------------+\n",
            "|      asin|               title|stars|reviews|category_id|       category_name|\n",
            "+----------+--------------------+-----+-------+-----------+--------------------+\n",
            "|B0CBN65GY5|Sasttie Pregnancy...|  5.0|      4|         31|Pregnancy & Mater...|\n",
            "|B0C3PM7P1N|Frida Fertility E...|  4.7|     97|         31|Pregnancy & Mater...|\n",
            "|B0CGD489R3|taynoes Pregnancy...|  4.7|     59|         31|Pregnancy & Mater...|\n",
            "|B08B8Y8ZJT|Natural Cycles Ov...|  4.7|     42|         31|Pregnancy & Mater...|\n",
            "|B0C4SSDQYR|Momcozy Pregnancy...|  4.3|     53|         31|Pregnancy & Mater...|\n",
            "|B0C3RWRCQM|PILLANI Nursing P...|  4.5|     29|         31|Pregnancy & Mater...|\n",
            "|B0C3T4F4LN|New Baby Bottle H...|  4.5|     39|         31|Pregnancy & Mater...|\n",
            "|B0C3PJTY85|Frida Fertility O...|  3.8|     81|         31|Pregnancy & Mater...|\n",
            "|B0CHMQBG8S|yoyomax Pregnancy...|  5.0|      1|         31|Pregnancy & Mater...|\n",
            "|B0CD3FG95W|Sasttie Cooling P...|  4.1|     61|         31|Pregnancy & Mater...|\n",
            "|B09S2K1R7X|Summer Fridays Ba...|  4.3|     57|         31|Pregnancy & Mater...|\n",
            "|B0C5R7P8FG|Pregnancy Pillows...|  4.3|     39|         31|Pregnancy & Mater...|\n",
            "|B0C6MFC7GV|Yoofoss Nursing P...|  4.7|     58|         31|Pregnancy & Mater...|\n",
            "|B0C5D7TDX1|GROWNSY Pregnancy...|  4.2|     36|         31|Pregnancy & Mater...|\n",
            "|B0BP183LP6|ZZZhen Pregnancy ...|  3.8|     86|         31|Pregnancy & Mater...|\n",
            "|B0C778XRKL|Pregnancy Pillows...|  4.4|     51|         31|Pregnancy & Mater...|\n",
            "|B0C3PQFDBR|Frida Fertility O...|  4.4|     72|         31|Pregnancy & Mater...|\n",
            "|B0CDC776RQ|Easy@Home FSH Men...|  4.5|     23|         31|Pregnancy & Mater...|\n",
            "|B0BNX1LK3Q|Vasectomy Home Te...|  4.4|     41|         31|Pregnancy & Mater...|\n",
            "|B0B8RXXJJG|Pregnancy Test Ki...|  3.8|     20|         31|Pregnancy & Mater...|\n",
            "+----------+--------------------+-----+-------+-----------+--------------------+\n",
            "only showing top 20 rows\n",
            "\n"
          ]
        }
      ]
    },
    {
      "cell_type": "markdown",
      "source": [
        "null 값 존재 여부 확인, null값 0으로 대체"
      ],
      "metadata": {
        "id": "uSnF1XCre1tO"
      }
    },
    {
      "cell_type": "code",
      "source": [
        "null_counts = joined_df.select([\n",
        "    sum(when(col(column).isNull(), 1).otherwise(0)).alias(column)\n",
        "    for column in joined_df.columns\n",
        "])\n",
        "\n",
        "null_counts.show()\n",
        "\n",
        "joined_df = joined_df.fillna({\n",
        "    \"stars\": 0,\n",
        "    \"reviews\": 0,\n",
        "})"
      ],
      "metadata": {
        "colab": {
          "base_uri": "https://localhost:8080/"
        },
        "id": "_yZDmxMuYdRE",
        "outputId": "98ab8ed0-2586-42dd-9de1-3a55d73b0afe"
      },
      "execution_count": 183,
      "outputs": [
        {
          "output_type": "stream",
          "name": "stdout",
          "text": [
            "+----+-----+-----+-------+-----------+-------------+\n",
            "|asin|title|stars|reviews|category_id|category_name|\n",
            "+----+-----+-----+-------+-----------+-------------+\n",
            "|   0|    0|    0|      0|          0|            0|\n",
            "+----+-----+-----+-------+-----------+-------------+\n",
            "\n"
          ]
        }
      ]
    },
    {
      "cell_type": "markdown",
      "source": [
        "수치 정보 요약\n",
        "\n"
      ],
      "metadata": {
        "id": "Ejxr6lD6ewKc"
      }
    },
    {
      "cell_type": "code",
      "source": [
        "# Numerical summary\n",
        "joined_df.describe().show()"
      ],
      "metadata": {
        "id": "77yF2oFWPg57",
        "colab": {
          "base_uri": "https://localhost:8080/"
        },
        "outputId": "ad2f7848-1a49-40cf-ec95-9fb66db34aec"
      },
      "execution_count": 184,
      "outputs": [
        {
          "output_type": "stream",
          "name": "stdout",
          "text": [
            "+-------+--------------------+--------------------+------------------+------------------+-----------------+--------------------+\n",
            "|summary|                asin|               title|             stars|           reviews|      category_id|       category_name|\n",
            "+-------+--------------------+--------------------+------------------+------------------+-----------------+--------------------+\n",
            "|  count|             1228601|             1228601|           1228601|           1228601|          1228601|             1228601|\n",
            "|   mean|1.7932850190857334E9|3.846153846153846...|3.9480175339364014| 3.310014398490641|123.8509182395261|                NULL|\n",
            "| stddev| 1.848046867413387E9|                 NaN|1.4063996948736115|13.033869416810948|72.83617705402303|                NULL|\n",
            "|    min|          0007268149| AIYUENCICI Funny...|               0.0|                 0|                1|Abrasive & Finish...|\n",
            "|    max|          BT00CTP93I|📬 United States ...|               5.0|               100|              270|eBook Readers & A...|\n",
            "+-------+--------------------+--------------------+------------------+------------------+-----------------+--------------------+\n",
            "\n"
          ]
        }
      ]
    },
    {
      "cell_type": "code",
      "source": [
        "# Compute unique values for each column\n",
        "unique_values = {col: joined_df.select(col).distinct().count() for col in joined_df.columns}\n",
        "\n",
        "# Print unique values\n",
        "print(\"Unique values in each column:\")\n",
        "for col, count in unique_values.items():\n",
        "    print(f\"{col}: {count}\")"
      ],
      "metadata": {
        "id": "2bd7ukuPPwU-",
        "colab": {
          "base_uri": "https://localhost:8080/"
        },
        "outputId": "9a4011c2-79be-42a4-9662-aa3fd165e19b"
      },
      "execution_count": 185,
      "outputs": [
        {
          "output_type": "stream",
          "name": "stdout",
          "text": [
            "Unique values in each column:\n",
            "asin: 1228601\n",
            "title: 1198610\n",
            "stars: 41\n",
            "reviews: 101\n",
            "category_id: 248\n",
            "category_name: 248\n"
          ]
        }
      ]
    },
    {
      "cell_type": "code",
      "source": [],
      "metadata": {
        "id": "2Ne2N8TfP2tj"
      },
      "execution_count": null,
      "outputs": []
    }
  ],
  "metadata": {
    "colab": {
      "provenance": [],
      "collapsed_sections": [
        "psvfGRIXC_xq"
      ],
      "authorship_tag": "ABX9TyN4dLTXf4kMKk9MYZte9jWc",
      "include_colab_link": true
    },
    "kernelspec": {
      "display_name": "Python 3",
      "name": "python3"
    },
    "language_info": {
      "name": "python"
    }
  },
  "nbformat": 4,
  "nbformat_minor": 0
}